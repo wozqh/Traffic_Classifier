{
 "cells": [
  {
   "cell_type": "markdown",
   "metadata": {},
   "source": [
    "# Self-Driving Car Engineer Nanodegree\n",
    "\n",
    "## Deep Learning\n",
    "\n",
    "## Project: Build a Traffic Sign Recognition Classifier\n",
    "\n",
    "In this notebook, a template is provided for you to implement your functionality in stages, which is required to successfully complete this project. If additional code is required that cannot be included in the notebook, be sure that the Python code is successfully imported and included in your submission if necessary. \n",
    "\n",
    "> **Note**: Once you have completed all of the code implementations, you need to finalize your work by exporting the iPython Notebook as an HTML document. Before exporting the notebook to html, all of the code cells need to have been run so that reviewers can see the final implementation and output. You can then export the notebook by using the menu above and navigating to  \\n\",\n",
    "    \"**File -> Download as -> HTML (.html)**. Include the finished document along with this notebook as your submission. \n",
    "\n",
    "In addition to implementing code, there is a writeup to complete. The writeup should be completed in a separate file, which can be either a markdown file or a pdf document. There is a [write up template](https://github.com/udacity/CarND-Traffic-Sign-Classifier-Project/blob/master/writeup_template.md) that can be used to guide the writing process. Completing the code template and writeup template will cover all of the [rubric points](https://review.udacity.com/#!/rubrics/481/view) for this project.\n",
    "\n",
    "The [rubric](https://review.udacity.com/#!/rubrics/481/view) contains \"Stand Out Suggestions\" for enhancing the project beyond the minimum requirements. The stand out suggestions are optional. If you decide to pursue the \"stand out suggestions\", you can include the code in this Ipython notebook and also discuss the results in the writeup file.\n",
    "\n",
    "\n",
    ">**Note:** Code and Markdown cells can be executed using the **Shift + Enter** keyboard shortcut. In addition, Markdown cells can be edited by typically double-clicking the cell to enter edit mode."
   ]
  },
  {
   "cell_type": "markdown",
   "metadata": {},
   "source": [
    "---\n",
    "## Step 0: Load The Data"
   ]
  },
  {
   "cell_type": "code",
   "execution_count": 11,
   "metadata": {
    "collapsed": true
   },
   "outputs": [],
   "source": [
    "# Load pickled data\n",
    "import pickle\n",
    "\n",
    "# TODO: Fill this in based on where you saved the training and testing data\n",
    "\n",
    "training_file = (\"traffic-signs-data/train.p\")\n",
    "validation_file=(\"traffic-signs-data/valid.p\")\n",
    "testing_file = (\"traffic-signs-data/test.p\")\n",
    "\n",
    "with open(training_file, mode='rb') as f:\n",
    "    train = pickle.load(f)\n",
    "with open(validation_file, mode='rb') as f:\n",
    "    valid = pickle.load(f)\n",
    "with open(testing_file, mode='rb') as f:\n",
    "    test = pickle.load(f)\n",
    "    \n",
    "X_train, y_train = train['features'], train['labels']\n",
    "X_valid, y_valid = valid['features'], valid['labels']\n",
    "X_test, y_test = test['features'], test['labels']"
   ]
  },
  {
   "cell_type": "markdown",
   "metadata": {},
   "source": [
    "---\n",
    "\n",
    "## Step 1: Dataset Summary & Exploration\n",
    "\n",
    "The pickled data is a dictionary with 4 key/value pairs:\n",
    "\n",
    "- `'features'` is a 4D array containing raw pixel data of the traffic sign images, (num examples, width, height, channels).\n",
    "- `'labels'` is a 1D array containing the label/class id of the traffic sign. The file `signnames.csv` contains id -> name mappings for each id.\n",
    "- `'sizes'` is a list containing tuples, (width, height) representing the original width and height the image.\n",
    "- `'coords'` is a list containing tuples, (x1, y1, x2, y2) representing coordinates of a bounding box around the sign in the image. **THESE COORDINATES ASSUME THE ORIGINAL IMAGE. THE PICKLED DATA CONTAINS RESIZED VERSIONS (32 by 32) OF THESE IMAGES**\n",
    "\n",
    "Complete the basic data summary below. Use python, numpy and/or pandas methods to calculate the data summary rather than hard coding the results. For example, the [pandas shape method](http://pandas.pydata.org/pandas-docs/stable/generated/pandas.DataFrame.shape.html) might be useful for calculating some of the summary results. "
   ]
  },
  {
   "cell_type": "markdown",
   "metadata": {},
   "source": [
    "### Provide a Basic Summary of the Data Set Using Python, Numpy and/or Pandas"
   ]
  },
  {
   "cell_type": "code",
   "execution_count": 12,
   "metadata": {},
   "outputs": [
    {
     "name": "stdout",
     "output_type": "stream",
     "text": [
      "Number of training examples = 34799\n",
      "Number of validation =  4410\n",
      "Number of testing examples = 12630\n",
      "Image data shape = (32, 32, 3)\n",
      "Number of classes = 43\n"
     ]
    }
   ],
   "source": [
    "### Replace each question mark with the appropriate value. \n",
    "### Use python, pandas or numpy methods rather than hard coding the results\n",
    "import pandas as pd\n",
    "import numpy as np\n",
    "\n",
    "# TODO: Number of training examples\n",
    "n_train = X_train.shape[0]\n",
    "\n",
    "# TODO: Number of validation examples\n",
    "n_validation = X_valid.shape[0]\n",
    "\n",
    "# TODO: Number of testing examples.\n",
    "n_test = X_test.shape[0]\n",
    "\n",
    "# TODO: What's the shape of an traffic sign image?\n",
    "image_shape = X_train[1,:,:,:].squeeze().shape\n",
    "\n",
    "# TODO: How many unique classes/labels there are in the dataset.\n",
    "n_classes = len(np.unique(y_train))\n",
    "\n",
    "print(\"Number of training examples =\", n_train)\n",
    "print(\"Number of validation = \",n_validation)\n",
    "print(\"Number of testing examples =\", n_test)\n",
    "print(\"Image data shape =\", image_shape)\n",
    "print(\"Number of classes =\", n_classes)"
   ]
  },
  {
   "cell_type": "markdown",
   "metadata": {},
   "source": [
    "### Include an exploratory visualization of the dataset"
   ]
  },
  {
   "cell_type": "markdown",
   "metadata": {},
   "source": [
    "Visualize the German Traffic Signs Dataset using the pickled file(s). This is open ended, suggestions include: plotting traffic sign images, plotting the count of each sign, etc. \n",
    "\n",
    "The [Matplotlib](http://matplotlib.org/) [examples](http://matplotlib.org/examples/index.html) and [gallery](http://matplotlib.org/gallery.html) pages are a great resource for doing visualizations in Python.\n",
    "\n",
    "**NOTE:** It's recommended you start with something simple first. If you wish to do more, come back to it after you've completed the rest of the sections. It can be interesting to look at the distribution of classes in the training, validation and test set. Is the distribution the same? Are there more examples of some classes than others?"
   ]
  },
  {
   "cell_type": "code",
   "execution_count": 13,
   "metadata": {},
   "outputs": [
    {
     "name": "stdout",
     "output_type": "stream",
     "text": [
      "Images Sorted.\n"
     ]
    },
    {
     "data": {
      "image/png": "[encoded data removed]",
      "text/plain": [
       "<matplotlib.figure.Figure at 0x1548f997ac8>"
      ]
     },
     "metadata": {},
     "output_type": "display_data"
    }
   ],
   "source": [
    "### Data exploration visualization code goes here.\n",
    "### Feel free to use as many code cells as needed.\n",
    "import matplotlib.pyplot as plt\n",
    "import random\n",
    "# Visualizations will be shown in the notebook.\n",
    "%matplotlib inline\n",
    "# for i in range(n_classes):\n",
    "#     print(i)\n",
    "#     plt.imshow(X_train[y_train==i][5],interpolation='none')\n",
    "#     plt.show()\n",
    "# Sort images into buckets for viewing\n",
    "def bucketImages(images, image_classes, num_classes):\n",
    "    image_buckets = [[] for cls in range(num_classes)]\n",
    "    for idx in range(len(images)):\n",
    "        image_buckets[image_classes[idx]].append(images[idx])\n",
    "    \n",
    "    return image_buckets\n",
    "\n",
    "def showBucketImages(bucket_images, pltIdx = 1, cmap = None):\n",
    "    images_per_row = 5\n",
    "\n",
    "    plt.figure(figsize=(10,80))\n",
    "\n",
    "    for classId, image_class in  enumerate(bucket_images):\n",
    "        title = 'Class id {}'.format(classId)\n",
    "        for imageIdx in range(1, images_per_row + 1):\n",
    "            plt.subplot(n_classes, images_per_row, pltIdx)\n",
    "            plt.title(title)\n",
    "            plt.axis('off')\n",
    "            plt.imshow(image_class[imageIdx].squeeze(), cmap=cmap)\n",
    "            pltIdx += 1\n",
    "            \n",
    "\n",
    "# Function for plotting the histogram\n",
    "# list that maps classes for images.\n",
    "# num_classes number of classes or number of buckets for hist\n",
    "def plot_histogram(image_classes, num_classes):\n",
    "    hist = plt.hist(image_classes, num_classes, facecolor='green', alpha=0.75, orientation='vertical', edgecolor='black')\n",
    "\n",
    "    plt.xlabel('Class')\n",
    "    plt.ylabel('Count')\n",
    "    plt.title('Classes Histogram')\n",
    "    plt.grid(True)\n",
    "    plt.show()\n",
    "    return hist\n",
    "\n",
    "labeled_images = bucketImages(X_train, y_train, n_classes)\n",
    "print('Images Sorted.')\n",
    "#showBucketImages(labeled_images)\n",
    "\n",
    "#!/usr/bin/env python\n",
    "import numpy as np\n",
    "import matplotlib.mlab as mlab\n",
    "import matplotlib.pyplot as plt\n",
    "\n",
    "\n",
    "    # the histogram of the data\n",
    "class_counts, bins, patches = plot_histogram(y_train, n_classes)"
   ]
  },
  {
   "cell_type": "markdown",
   "metadata": {},
   "source": [
    "----\n",
    "\n",
    "## Step 2: Design and Test a Model Architecture\n",
    "\n",
    "Design and implement a deep learning model that learns to recognize traffic signs. Train and test your model on the [German Traffic Sign Dataset](http://benchmark.ini.rub.de/?section=gtsrb&subsection=dataset).\n",
    "\n",
    "The LeNet-5 implementation shown in the [classroom](https://classroom.udacity.com/nanodegrees/nd013/parts/fbf77062-5703-404e-b60c-95b78b2f3f9e/modules/6df7ae49-c61c-4bb2-a23e-6527e69209ec/lessons/601ae704-1035-4287-8b11-e2c2716217ad/concepts/d4aca031-508f-4e0b-b493-e7b706120f81) at the end of the CNN lesson is a solid starting point. You'll have to change the number of classes and possibly the preprocessing, but aside from that it's plug and play! \n",
    "\n",
    "With the LeNet-5 solution from the lecture, you should expect a validation set accuracy of about 0.89. To meet specifications, the validation set accuracy will need to be at least 0.93. It is possible to get an even higher accuracy, but 0.93 is the minimum for a successful project submission. \n",
    "\n",
    "There are various aspects to consider when thinking about this problem:\n",
    "\n",
    "- Neural network architecture (is the network over or underfitting?)\n",
    "- Play around preprocessing techniques (normalization, rgb to grayscale, etc)\n",
    "- Number of examples per label (some have more than others).\n",
    "- Generate fake data.\n",
    "\n",
    "Here is an example of a [published baseline model on this problem](http://yann.lecun.com/exdb/publis/pdf/sermanet-ijcnn-11.pdf). It's not required to be familiar with the approach used in the paper but, it's good practice to try to read papers like these."
   ]
  },
  {
   "cell_type": "markdown",
   "metadata": {},
   "source": [
    "### Pre-process the Data Set (normalization, grayscale, etc.)"
   ]
  },
  {
   "cell_type": "markdown",
   "metadata": {},
   "source": [
    "Minimally, the image data should be normalized so that the data has mean zero and equal variance. For image data, `(pixel - 128)/ 128` is a quick way to approximately normalize the data and can be used in this project. \n",
    "\n",
    "Other pre-processing steps are optional. You can try different techniques to see if it improves performance. \n",
    "\n",
    "Use the code cell (or multiple code cells, if necessary) to implement the first step of your project."
   ]
  },
  {
   "cell_type": "code",
   "execution_count": 14,
   "metadata": {},
   "outputs": [
    {
     "name": "stdout",
     "output_type": "stream",
     "text": [
      "Before preprocess Shape:(32, 32, 3),Sample id:23042\n",
      "After preprocess Shape:(32, 32, 1),Sample id:23042\n",
      "(Outside loop) After Processing: (34799, 32, 32, 1)\n"
     ]
    },
    {
     "data": {
      "image/png": "[encoded data removed]",
      "text/plain": [
       "<matplotlib.figure.Figure at 0x1548fa91208>"
      ]
     },
     "metadata": {},
     "output_type": "display_data"
    }
   ],
   "source": [
    "### Preprocess the data here. It is required to normalize the data. Other preprocessing steps could include \n",
    "### converting to grayscale, etc.\n",
    "### Feel free to use as many code cells as needed.\n",
    "from sklearn.utils import shuffle\n",
    "import matplotlib.pyplot as plt\n",
    "import numpy as np\n",
    "import random\n",
    "import cv2\n",
    "\n",
    "rand=random.randint(0,len(X_train))\n",
    "def Preprocess(X_data):\n",
    "    bat=[]\n",
    "    #print(\"Train Shape : {},Sample id:{}\".format(X_data[rand].shape,rand))\n",
    "    for i in range(0,len(X_data)):\n",
    "        #image=cv2.cvtColor(X_data[i],cv2.COLOR_RGB2GRAY)\n",
    "        image=cv2.cvtColor(X_data[i],cv2.COLOR_BGR2GRAY)\n",
    "        bat.append(image)\n",
    "    X_data=np.reshape(bat,(-1,32,32,1))\n",
    "    #print(\"Train Reshape :{},Sample id:{}\".format(X_data[rand].shape,rand))\n",
    "    #print(\"(Inside loop)After Processing shape:{}\".format(X_data.shape))\n",
    "    return X_data\n",
    "\n",
    "print(\"Before preprocess Shape:{},Sample id:{}\".format(X_train[rand].shape,rand))\n",
    "#plt.imshow(X_train[8])\n",
    "X_train=Preprocess(X_train)\n",
    "plt.imshow(X_train[8].squeeze())\n",
    "print(\"After preprocess Shape:{},Sample id:{}\".format(X_train[rand].shape,rand))\n",
    "print(\"(Outside loop) After Processing: {}\".format(X_train.shape))\n"
   ]
  },
  {
   "cell_type": "markdown",
   "metadata": {},
   "source": [
    "### Model Architecture"
   ]
  },
  {
   "cell_type": "code",
   "execution_count": 15,
   "metadata": {
    "collapsed": true
   },
   "outputs": [],
   "source": [
    "### Define your architecture here.\n",
    "### Feel free to use as many code cells as needed.\n",
    "from tensorflow.contrib.layers import flatten\n",
    "\n",
    "def LeNet(x):\n",
    "    #Arguments used for tf.truncated_normal,randomly defines variables for the\n",
    "    #weights and biases for each layer\n",
    "    mu=0\n",
    "    sigma=0.1\n",
    "    \n",
    "    #TODO:Layer 1: Convolutional. Input=32x32x1. Output=28x28x6.\n",
    "    conv1_W=tf.Variable(tf.truncated_normal(shape=(5,5,1,6),mean=mu,stddev=sigma,name='conv1_W'))\n",
    "    conv1_b=tf.Variable(tf.zeros(6))\n",
    "    conv1  =tf.nn.conv2d(x,conv1_W,strides=[1,1,1,1],padding='VALID')+conv1_b\n",
    "    \n",
    "    #TODO:Activation.\n",
    "    conv1=tf.nn.relu(conv1)\n",
    "    \n",
    "    #TODO:Pooling. Input=28x28x6. Output=14x14x6.\n",
    "    conv1=tf.nn.max_pool(conv1,ksize=[1,2,2,1],strides=[1,2,2,1],padding='VALID')\n",
    "    \n",
    "    #TODO:Layer 2: Convolutional. Output = 10x10x16\n",
    "    conv2_W=tf.Variable(tf.truncated_normal(shape=(5,5,6,16),mean=mu,stddev=sigma,name='conv2_W'))\n",
    "    conv2_b=tf.Variable(tf.zeros(16))\n",
    "    conv2  =tf.nn.conv2d(conv1,conv2_W,strides=[1,1,1,1],padding='VALID')+conv2_b\n",
    "    \n",
    "    #TODO:Activation\n",
    "    conv2=tf.nn.relu(conv2)\n",
    "    \n",
    "    #TODO:Pooling. Input = 10x10x16. Output = 5x5x16\n",
    "    conv2=tf.nn.max_pool(conv2,ksize=[1,2,2,1],strides=[1,2,2,1],padding='VALID')\n",
    "    \n",
    "    #TODO:Flatten. Input = 5x5x16. Output = 400.\n",
    "    fc0=flatten(conv2)\n",
    "    \n",
    "    #TODO:Layer 3: Fully Connected. Input =400. Output = 120.\n",
    "    fc1_W=tf.Variable(tf.truncated_normal(shape=(400,120),mean=mu,stddev=sigma))\n",
    "    fc1_b=tf.Variable(tf.zeros(120))\n",
    "    fc1=tf.matmul(fc0,fc1_W)+fc1_b\n",
    "    \n",
    "    #TODO: Activation.\n",
    "    fc1=tf.nn.relu(fc1)\n",
    "    #======\n",
    "    #fc1 = tf.nn.dropout(fc1,0.9)\n",
    "    #======\n",
    "    \n",
    "    #TODO:Layer 4: Fully Conncected. Input=120. Output = 84.\n",
    "    fc2_W=tf.Variable(tf.truncated_normal(shape=(120,84),mean=mu,stddev=sigma))\n",
    "    fc2_b=tf.Variable(tf.zeros(84))\n",
    "    fc2=tf.matmul(fc1,fc2_W)+fc2_b\n",
    "    \n",
    "    #TODO:Activation.\n",
    "    fc2=tf.nn.relu(fc2)\n",
    "    #======\n",
    "    #fc2 = tf.nn.dropout(fc2,0.9)\n",
    "    #======\n",
    "    \n",
    "    #TODO:Layer 5: Fully Connected. Input =84. Output = 43.\n",
    "    fc3_W=tf.Variable(tf.truncated_normal(shape=(84,43),mean=mu,stddev=sigma))\n",
    "    fc3_b=tf.Variable(tf.zeros(43))\n",
    "    logits=tf.matmul(fc2,fc3_W)+fc3_b\n",
    "    \n",
    "    return logits\n"
   ]
  },
  {
   "cell_type": "markdown",
   "metadata": {},
   "source": [
    "### Train, Validate and Test the Model"
   ]
  },
  {
   "cell_type": "markdown",
   "metadata": {},
   "source": [
    "A validation set can be used to assess how well the model is performing. A low accuracy on the training and validation\n",
    "sets imply underfitting. A high accuracy on the training set but low accuracy on the validation set implies overfitting."
   ]
  },
  {
   "cell_type": "code",
   "execution_count": 16,
   "metadata": {
    "scrolled": true
   },
   "outputs": [
    {
     "name": "stdout",
     "output_type": "stream",
     "text": [
      "Training...\n",
      "\n",
      "EPOCH 1 ...\n",
      "Validation Accuracy = 0.555\n",
      "\n",
      "EPOCH 2 ...\n",
      "Validation Accuracy = 0.735\n",
      "\n",
      "EPOCH 3 ...\n",
      "Validation Accuracy = 0.776\n",
      "\n",
      "EPOCH 4 ...\n",
      "Validation Accuracy = 0.812\n",
      "\n",
      "EPOCH 5 ...\n",
      "Validation Accuracy = 0.835\n",
      "\n",
      "EPOCH 6 ...\n",
      "Validation Accuracy = 0.853\n",
      "\n",
      "EPOCH 7 ...\n",
      "Validation Accuracy = 0.852\n",
      "\n",
      "EPOCH 8 ...\n",
      "Validation Accuracy = 0.856\n",
      "\n",
      "EPOCH 9 ...\n",
      "Validation Accuracy = 0.843\n",
      "\n",
      "EPOCH 10 ...\n",
      "Validation Accuracy = 0.871\n",
      "\n",
      "EPOCH 11 ...\n",
      "Validation Accuracy = 0.861\n",
      "\n",
      "EPOCH 12 ...\n",
      "Validation Accuracy = 0.876\n",
      "\n",
      "EPOCH 13 ...\n",
      "Validation Accuracy = 0.859\n",
      "\n",
      "EPOCH 14 ...\n",
      "Validation Accuracy = 0.886\n",
      "\n",
      "EPOCH 15 ...\n",
      "Validation Accuracy = 0.881\n",
      "\n",
      "EPOCH 16 ...\n",
      "Validation Accuracy = 0.888\n",
      "\n",
      "EPOCH 17 ...\n",
      "Validation Accuracy = 0.883\n",
      "\n",
      "EPOCH 18 ...\n",
      "Validation Accuracy = 0.890\n",
      "\n",
      "EPOCH 19 ...\n",
      "Validation Accuracy = 0.891\n",
      "\n",
      "EPOCH 20 ...\n",
      "Validation Accuracy = 0.885\n",
      "\n",
      "EPOCH 21 ...\n",
      "Validation Accuracy = 0.898\n",
      "\n",
      "EPOCH 22 ...\n",
      "Validation Accuracy = 0.893\n",
      "\n",
      "EPOCH 23 ...\n",
      "Validation Accuracy = 0.883\n",
      "\n",
      "EPOCH 24 ...\n",
      "Validation Accuracy = 0.897\n",
      "\n",
      "EPOCH 25 ...\n",
      "Validation Accuracy = 0.898\n",
      "\n",
      "EPOCH 26 ...\n",
      "Validation Accuracy = 0.904\n",
      "\n",
      "EPOCH 27 ...\n",
      "Validation Accuracy = 0.899\n",
      "\n",
      "EPOCH 28 ...\n",
      "Validation Accuracy = 0.895\n",
      "\n",
      "EPOCH 29 ...\n",
      "Validation Accuracy = 0.900\n",
      "\n",
      "EPOCH 30 ...\n",
      "Validation Accuracy = 0.910\n",
      "\n",
      "EPOCH 31 ...\n",
      "Validation Accuracy = 0.912\n",
      "\n",
      "EPOCH 32 ...\n",
      "Validation Accuracy = 0.905\n",
      "\n",
      "EPOCH 33 ...\n",
      "Validation Accuracy = 0.887\n",
      "\n",
      "EPOCH 34 ...\n",
      "Validation Accuracy = 0.907\n",
      "\n",
      "EPOCH 35 ...\n",
      "Validation Accuracy = 0.905\n",
      "\n",
      "EPOCH 36 ...\n",
      "Validation Accuracy = 0.909\n",
      "\n",
      "EPOCH 37 ...\n",
      "Validation Accuracy = 0.913\n",
      "\n",
      "EPOCH 38 ...\n",
      "Validation Accuracy = 0.904\n",
      "\n",
      "EPOCH 39 ...\n",
      "Validation Accuracy = 0.915\n",
      "\n",
      "EPOCH 40 ...\n",
      "Validation Accuracy = 0.914\n",
      "\n",
      "EPOCH 41 ...\n",
      "Validation Accuracy = 0.917\n",
      "\n",
      "EPOCH 42 ...\n",
      "Validation Accuracy = 0.884\n",
      "\n",
      "EPOCH 43 ...\n",
      "Validation Accuracy = 0.901\n",
      "\n",
      "EPOCH 44 ...\n",
      "Validation Accuracy = 0.908\n",
      "\n",
      "EPOCH 45 ...\n",
      "Validation Accuracy = 0.912\n",
      "\n",
      "EPOCH 46 ...\n",
      "Validation Accuracy = 0.915\n",
      "\n",
      "EPOCH 47 ...\n",
      "Validation Accuracy = 0.924\n",
      "\n",
      "EPOCH 48 ...\n",
      "Validation Accuracy = 0.927\n",
      "\n",
      "EPOCH 49 ...\n",
      "Validation Accuracy = 0.930\n",
      "\n",
      "EPOCH 50 ...\n",
      "Validation Accuracy = 0.928\n",
      "\n",
      "Model saved\n"
     ]
    }
   ],
   "source": [
    "### Train your model here.\n",
    "### Calculate and report the accuracy on the training and validation set.\n",
    "### Once a final model architecture is selected, \n",
    "### the accuracy on the test set should be calculated and reported as well.\n",
    "### Feel free to use as many code cells as needed.\n",
    "from sklearn.utils import shuffle\n",
    "import tensorflow as tf\n",
    "EPOCHS = 50\n",
    "BATCH_SIZE = 128\n",
    "\n",
    "x = tf.placeholder(tf.float32, (None, 32, 32, 1))\n",
    "y = tf.placeholder(tf.int32, (None))\n",
    "one_hot_y = tf.one_hot(y, 43)\n",
    "\n",
    "rate = 0.0005\n",
    "\n",
    "logits = LeNet(x)\n",
    "cross_entropy = tf.nn.softmax_cross_entropy_with_logits(labels=one_hot_y, logits=logits)\n",
    "loss_operation = tf.reduce_mean(cross_entropy)\n",
    "optimizer = tf.train.AdamOptimizer(learning_rate = rate)\n",
    "training_operation = optimizer.minimize(loss_operation)\n",
    "\n",
    "correct_prediction = tf.equal(tf.argmax(logits, 1), tf.argmax(one_hot_y, 1))\n",
    "accuracy_operation = tf.reduce_mean(tf.cast(correct_prediction, tf.float32))\n",
    "saver = tf.train.Saver()\n",
    "X_valid=Preprocess(X_valid)\n",
    "\n",
    "def evaluate(X_data, y_data):\n",
    "    num_examples = len(X_data)\n",
    "    total_accuracy = 0\n",
    "    sess = tf.get_default_session()\n",
    "    for offset in range(0, num_examples, BATCH_SIZE):\n",
    "        batch_x, batch_y = X_data[offset:offset+BATCH_SIZE], y_data[offset:offset+BATCH_SIZE]\n",
    "        accuracy = sess.run(accuracy_operation, feed_dict={x: batch_x, y: batch_y})\n",
    "        total_accuracy += (accuracy * len(batch_x))\n",
    "    return total_accuracy / num_examples\n",
    "\n",
    "\n",
    "with tf.Session() as sess:\n",
    "    sess.run(tf.global_variables_initializer())\n",
    "    num_examples = len(X_train)\n",
    "    \n",
    "    print(\"Training...\")\n",
    "    print()\n",
    "    for i in range(EPOCHS):\n",
    "        X_train, y_train = shuffle(X_train, y_train)\n",
    "        for offset in range(0, num_examples, BATCH_SIZE):\n",
    "            end = offset + BATCH_SIZE\n",
    "            batch_x, batch_y = X_train[offset:end], y_train[offset:end]\n",
    "            sess.run(training_operation, feed_dict={x: batch_x, y: batch_y})\n",
    "        \n",
    "        #training_accuracy = evaluate(X_train,y_train)\n",
    "        validation_accuracy = evaluate(X_valid, y_valid)\n",
    "        #test_accuracy = evaluate(X_test,y_test)\n",
    "        print(\"EPOCH {} ...\".format(i+1))\n",
    "        #print(\"Training Accuracy = {:.3f}\".format(training_accuracy))\n",
    "        print(\"Validation Accuracy = {:.3f}\".format(validation_accuracy))\n",
    "        #print(\"Test Accuracy = {:.3f}\".format(test_accuracy))\n",
    "        print()\n",
    "        \n",
    "    saver.save(sess, './lenet')\n",
    "    print(\"Model saved\")"
   ]
  },
  {
   "cell_type": "markdown",
   "metadata": {},
   "source": [
    "---\n",
    "\n",
    "## Step 3: Test a Model on New Images\n",
    "\n",
    "To give yourself more insight into how your model is working, download at least five pictures of German traffic signs from the web and use your model to predict the traffic sign type.\n",
    "\n",
    "You may find `signnames.csv` useful as it contains mappings from the class id (integer) to the actual sign name."
   ]
  },
  {
   "cell_type": "markdown",
   "metadata": {},
   "source": [
    "### Load and Output the Images"
   ]
  },
  {
   "cell_type": "code",
   "execution_count": 17,
   "metadata": {
    "scrolled": true
   },
   "outputs": [
    {
     "name": "stdout",
     "output_type": "stream",
     "text": [
      "Image data shape = (32, 32)\n",
      "test_images[2].shape:(32, 32, 1),Sample id:2\n"
     ]
    },
    {
     "data": {
      "image/png": "[encoded data removed]",
      "text/plain": [
       "<matplotlib.figure.Figure at 0x1548dcb0048>"
      ]
     },
     "metadata": {},
     "output_type": "display_data"
    },
    {
     "data": {
      "image/png": "[encoded data removed]",
      "text/plain": [
       "<matplotlib.figure.Figure at 0x1548d5eb668>"
      ]
     },
     "metadata": {},
     "output_type": "display_data"
    },
    {
     "data": {
      "image/png": "[encoded data removed]",
      "text/plain": [
       "<matplotlib.figure.Figure at 0x1548fa3ff28>"
      ]
     },
     "metadata": {},
     "output_type": "display_data"
    },
    {
     "data": {
      "image/png": "[encoded data removed]",
      "text/plain": [
       "<matplotlib.figure.Figure at 0x15573a47550>"
      ]
     },
     "metadata": {},
     "output_type": "display_data"
    },
    {
     "data": {
      "image/png": "[encoded data removed]",
      "text/plain": [
       "<matplotlib.figure.Figure at 0x1548fe3d828>"
      ]
     },
     "metadata": {},
     "output_type": "display_data"
    }
   ],
   "source": [
    "### Load the images and plot them here.\n",
    "### Feel free to use as many code cells as needed.\n",
    "import cv2\n",
    "import numpy as np\n",
    "import matplotlib.pyplot as plt\n",
    "from sklearn.utils import shuffle\n",
    "import random\n",
    "\n",
    "def load_images():\n",
    "    mat=[]\n",
    "    images=np.zeros((5,32,32,3),dtype=np.float32)\n",
    "    for i in range(0,5):\n",
    "        images[i]=cv2.imread('test/{}.jpg'.format(i+1))\n",
    "        images[i]=images[i].astype(np.float32)\n",
    "        #print(images[i].dtype)\n",
    "        #images[i]=cv2.cvtColor(images[i],cv2.COLOR_BGR2RGB)\n",
    "        gray=cv2.cvtColor(images[i],cv2.COLOR_BGR2GRAY)\n",
    "        mat.append(gray)\n",
    "        plt.figure(figsize=(1,1))\n",
    "        #plt.imshow(images[i])\n",
    "        plt.imshow(images[i].astype(np.uint8))\n",
    "        #plt.imshow(mat[i].astype(np.uint8))\n",
    "    gray_images=np.reshape(mat,(-1,32,32,1))\n",
    "    return gray_images\n",
    "\n",
    "test_images=load_images()\n",
    "\n",
    "# rand=random.randint(0,len(test_images))\n",
    "\n",
    "image_shape = test_images[0,:,:,:].squeeze().shape\n",
    "\n",
    "print(\"Image data shape =\", image_shape)\n",
    "\n",
    "print(\"test_images[2].shape:{},Sample id:{}\".format(test_images[2].shape,2))\n",
    "#test_images=Preprocess(test_images)\n",
    "#gray_images=Preprocess(test_images)\n",
    "\n",
    "#gray_images=cv2.cvtColor(test_images,cv2.COLOR_RGB2GRAY)\n",
    "\n",
    "\n",
    "#print(\"Before preprocess Shape:{},Sample id:{}\".format(test_images[rand].shape,rand))\n",
    "# test_images=Preprocess(test_images)\n",
    "# print(\"After preprocess Shape:{},Sample id:{}\".format(test_images[rand].shape,rand))\n",
    "# print(\"(Outside loop) After Processing: {}\".format(test_images.shape))\n"
   ]
  },
  {
   "cell_type": "markdown",
   "metadata": {},
   "source": [
    "### Predict the Sign Type for Each Image"
   ]
  },
  {
   "cell_type": "code",
   "execution_count": 18,
   "metadata": {},
   "outputs": [
    {
     "name": "stdout",
     "output_type": "stream",
     "text": [
      "[20 39 29 33 20]\n",
      "INFO:tensorflow:Restoring parameters from .\\lenet\n",
      "float32\n",
      "[20 39 11 17 20]\n",
      "(5, 32, 32, 1)\n"
     ]
    },
    {
     "data": {
      "image/png": "[encoded data removed]",
      "text/plain": [
       "<matplotlib.figure.Figure at 0x15571366cf8>"
      ]
     },
     "metadata": {},
     "output_type": "display_data"
    },
    {
     "data": {
      "image/png": "[encoded data removed]",
      "text/plain": [
       "<matplotlib.figure.Figure at 0x1548f9f1898>"
      ]
     },
     "metadata": {},
     "output_type": "display_data"
    },
    {
     "data": {
      "image/png": "[encoded data removed]",
      "text/plain": [
       "<matplotlib.figure.Figure at 0x1549330a048>"
      ]
     },
     "metadata": {},
     "output_type": "display_data"
    },
    {
     "data": {
      "image/png": "[encoded data removed]",
      "text/plain": [
       "<matplotlib.figure.Figure at 0x1549364f240>"
      ]
     },
     "metadata": {},
     "output_type": "display_data"
    },
    {
     "data": {
      "image/png": "[encoded data removed]",
      "text/plain": [
       "<matplotlib.figure.Figure at 0x15493696860>"
      ]
     },
     "metadata": {},
     "output_type": "display_data"
    }
   ],
   "source": [
    "### Run the predictions here and use the model to output the prediction for each image.\n",
    "### Make sure to pre-process the images with the same pre-processing pipeline used earlier.\n",
    "### Feel free to use as many code cells as needed.\n",
    "import tensorflow as tf\n",
    "keep_prob = tf.placeholder(tf.float32)\n",
    "labels=np.stack((20,39,29,33,20))\n",
    "print(labels)\n",
    "with tf.Session() as sess:\n",
    "    #saver.restore(sess,'./lenet')\n",
    "    new_saver = tf.train.import_meta_graph('lenet.meta')\n",
    "    new_saver.restore(sess,tf.train.latest_checkpoint('.'))\n",
    "    #predicated_logits=sess.run(logits,feed_dict={x:test_images})\n",
    "    #sess.run(tf.global_variables_initializer())\n",
    "    test_images=load_images()\n",
    "    test_images=test_images.astype(np.float32)\n",
    "    print(test_images.dtype)\n",
    "    predicted_logits = sess.run(logits,feed_dict={x:test_images})\n",
    "    predicted_labels = np.argmax(predicted_logits,axis=1)\n",
    "    print(predicted_labels)\n",
    "    #sess.run(LeNet,feed_dict={x:test_images})\n",
    "    #softmax=tf.nn.softmax(logits)\n",
    "    #predicted_logits=sess.run(softmax,feed_dict={x:test_images})\n",
    "    print(test_images.shape)\n",
    "    #print(test_images.astype(np.uint8))\n",
    "    #predicted_logits=sess.run(logits,feed_dict={x:test_images,keep_prob:1.0})\n",
    "    #print(predicted_logits)\n",
    "    #test_images_accuracy=evaluate()"
   ]
  },
  {
   "cell_type": "markdown",
   "metadata": {},
   "source": [
    "### Analyze Performance"
   ]
  },
  {
   "cell_type": "code",
   "execution_count": 19,
   "metadata": {},
   "outputs": [
    {
     "name": "stdout",
     "output_type": "stream",
     "text": [
      "INFO:tensorflow:Restoring parameters from ./lenet\n",
      "[20 39 11 17 20]\n",
      "0.600000023842\n"
     ]
    },
    {
     "data": {
      "image/png": "[encoded data removed]",
      "text/plain": [
       "<matplotlib.figure.Figure at 0x1557179e128>"
      ]
     },
     "metadata": {},
     "output_type": "display_data"
    },
    {
     "data": {
      "image/png": "[encoded data removed]",
      "text/plain": [
       "<matplotlib.figure.Figure at 0x15492cd9b70>"
      ]
     },
     "metadata": {},
     "output_type": "display_data"
    },
    {
     "data": {
      "image/png": "[encoded data removed]",
      "text/plain": [
       "<matplotlib.figure.Figure at 0x1549318c3c8>"
      ]
     },
     "metadata": {},
     "output_type": "display_data"
    },
    {
     "data": {
      "image/png": "[encoded data removed]",
      "text/plain": [
       "<matplotlib.figure.Figure at 0x1549320d5f8>"
      ]
     },
     "metadata": {},
     "output_type": "display_data"
    },
    {
     "data": {
      "image/png": "[encoded data removed]",
      "text/plain": [
       "<matplotlib.figure.Figure at 0x1549328f438>"
      ]
     },
     "metadata": {},
     "output_type": "display_data"
    }
   ],
   "source": [
    "### Calculate the accuracy for these 5 new images. \n",
    "### For example, if the model predicted 1 out of 5 signs correctly, it's 20% accurate on these new images.\n",
    "from time import gmtime,strftime\n",
    "labels=np.stack((20,39,29,33,20))\n",
    "predictSoftmax = tf.nn.softmax(logits)\n",
    "with tf.Session() as sess2:\n",
    "    second_saver = tf.train.import_meta_graph('./lenet.meta')\n",
    "    second_saver.restore(sess2,tf.train.latest_checkpoint('./'))\n",
    "    #test_accuracy = evaluate(X_test,y_test)\n",
    "    test_images=load_images()\n",
    "    test_images=test_images.astype(np.float32)\n",
    "#     accuracy_logits = sess2.run(logits,feed_dict={x:test_images})\n",
    "#     predicted_accuracy = np.argmax(accuracy_logits,axis=1)\n",
    "#     test_accuracy = evaluate(test_images,labels)\n",
    "#     print(predicted_accuracy)\n",
    "#     print(test_accuracy)\n",
    "    softmaxProb = sess2.run(predictSoftmax,feed_dict={x:test_images})\n",
    "    predicted_accuracy = np.argmax(softmaxProb,axis=1)\n",
    "    test_accuracy = evaluate(test_images,labels)\n",
    "    print(predicted_accuracy)\n",
    "    print(test_accuracy)"
   ]
  },
  {
   "cell_type": "markdown",
   "metadata": {},
   "source": [
    "### Output Top 5 Softmax Probabilities For Each Image Found on the Web"
   ]
  },
  {
   "cell_type": "markdown",
   "metadata": {},
   "source": [
    "For each of the new images, print out the model's softmax probabilities to show the **certainty** of the model's predictions (limit the output to the top 5 probabilities for each image). [`tf.nn.top_k`](https://www.tensorflow.org/versions/r0.12/api_docs/python/nn.html#top_k) could prove helpful here. \n",
    "\n",
    "The example below demonstrates how tf.nn.top_k can be used to find the top k predictions for each image.\n",
    "\n",
    "`tf.nn.top_k` will return the values and indices (class ids) of the top k predictions. So if k=3, for each sign, it'll return the 3 largest probabilities (out of a possible 43) and the correspoding class ids.\n",
    "\n",
    "Take this numpy array as an example. The values in the array represent predictions. The array contains softmax probabilities for five candidate images with six possible classes. `tk.nn.top_k` is used to choose the three classes with the highest probability:\n",
    "\n",
    "```\n",
    "# (5, 6) array\n",
    "a = np.array([[ 0.24879643,  0.07032244,  0.12641572,  0.34763842,  0.07893497,\n",
    "         0.12789202],\n",
    "       [ 0.28086119,  0.27569815,  0.08594638,  0.0178669 ,  0.18063401,\n",
    "         0.15899337],\n",
    "       [ 0.26076848,  0.23664738,  0.08020603,  0.07001922,  0.1134371 ,\n",
    "         0.23892179],\n",
    "       [ 0.11943333,  0.29198961,  0.02605103,  0.26234032,  0.1351348 ,\n",
    "         0.16505091],\n",
    "       [ 0.09561176,  0.34396535,  0.0643941 ,  0.16240774,  0.24206137,\n",
    "         0.09155967]])\n",
    "```\n",
    "\n",
    "Running it through `sess.run(tf.nn.top_k(tf.constant(a), k=3))` produces:\n",
    "\n",
    "```\n",
    "TopKV2(values=array([[ 0.34763842,  0.24879643,  0.12789202],\n",
    "       [ 0.28086119,  0.27569815,  0.18063401],\n",
    "       [ 0.26076848,  0.23892179,  0.23664738],\n",
    "       [ 0.29198961,  0.26234032,  0.16505091],\n",
    "       [ 0.34396535,  0.24206137,  0.16240774]]), indices=array([[3, 0, 5],\n",
    "       [0, 1, 4],\n",
    "       [0, 5, 1],\n",
    "       [1, 3, 5],\n",
    "       [1, 4, 3]], dtype=int32))\n",
    "```\n",
    "\n",
    "Looking just at the first row we get `[ 0.34763842,  0.24879643,  0.12789202]`, you can confirm these are the 3 largest probabilities in `a`. You'll also notice `[3, 0, 5]` are the corresponding indices."
   ]
  },
  {
   "cell_type": "code",
   "execution_count": 20,
   "metadata": {},
   "outputs": [
    {
     "name": "stdout",
     "output_type": "stream",
     "text": [
      "[[  0.00000000e+00   0.00000000e+00   0.00000000e+00   0.00000000e+00\n",
      "    0.00000000e+00   0.00000000e+00   0.00000000e+00   0.00000000e+00\n",
      "    0.00000000e+00   0.00000000e+00   0.00000000e+00   0.00000000e+00\n",
      "    0.00000000e+00   0.00000000e+00   0.00000000e+00   0.00000000e+00\n",
      "    0.00000000e+00   0.00000000e+00   0.00000000e+00   0.00000000e+00\n",
      "    1.00000000e+00   0.00000000e+00   0.00000000e+00   0.00000000e+00\n",
      "    0.00000000e+00   0.00000000e+00   0.00000000e+00   0.00000000e+00\n",
      "    0.00000000e+00   0.00000000e+00   0.00000000e+00   0.00000000e+00\n",
      "    0.00000000e+00   0.00000000e+00   0.00000000e+00   0.00000000e+00\n",
      "    0.00000000e+00   0.00000000e+00   0.00000000e+00   0.00000000e+00\n",
      "    0.00000000e+00   0.00000000e+00   0.00000000e+00]\n",
      " [  0.00000000e+00   1.71308607e-36   4.89010572e-33   0.00000000e+00\n",
      "    1.27966466e-21   0.00000000e+00   0.00000000e+00   0.00000000e+00\n",
      "    0.00000000e+00   0.00000000e+00   0.00000000e+00   0.00000000e+00\n",
      "    3.67766816e-33   1.24907361e-27   5.10629588e-22   0.00000000e+00\n",
      "    0.00000000e+00   0.00000000e+00   0.00000000e+00   0.00000000e+00\n",
      "    0.00000000e+00   0.00000000e+00   0.00000000e+00   0.00000000e+00\n",
      "    0.00000000e+00   4.64666989e-17   0.00000000e+00   0.00000000e+00\n",
      "    0.00000000e+00   0.00000000e+00   0.00000000e+00   0.00000000e+00\n",
      "    0.00000000e+00   4.78745927e-19   0.00000000e+00   0.00000000e+00\n",
      "    0.00000000e+00   3.14461628e-28   0.00000000e+00   1.00000000e+00\n",
      "    7.30081647e-25   0.00000000e+00   0.00000000e+00]\n",
      " [  0.00000000e+00   8.43060185e-29   0.00000000e+00   0.00000000e+00\n",
      "    0.00000000e+00   0.00000000e+00   2.30078249e-30   1.67842479e-34\n",
      "    0.00000000e+00   0.00000000e+00   0.00000000e+00   9.85545993e-01\n",
      "    1.44539364e-02   0.00000000e+00   0.00000000e+00   0.00000000e+00\n",
      "    2.79865057e-31   0.00000000e+00   0.00000000e+00   0.00000000e+00\n",
      "    0.00000000e+00   0.00000000e+00   0.00000000e+00   4.26187292e-29\n",
      "    0.00000000e+00   7.55039206e-31   2.23398028e-37   0.00000000e+00\n",
      "    1.84694075e-37   0.00000000e+00   9.75198389e-30   0.00000000e+00\n",
      "    0.00000000e+00   4.27101105e-33   0.00000000e+00   0.00000000e+00\n",
      "    0.00000000e+00   0.00000000e+00   0.00000000e+00   0.00000000e+00\n",
      "    1.30191085e-08   4.19215723e-26   3.13194465e-19]\n",
      " [  0.00000000e+00   3.66833363e-33   0.00000000e+00   0.00000000e+00\n",
      "    0.00000000e+00   8.97152279e-25   0.00000000e+00   1.56889020e-18\n",
      "    0.00000000e+00   6.05316090e-18   8.94114435e-11   4.40613945e-34\n",
      "    1.99125192e-04   5.37530109e-09   1.93447746e-18   0.00000000e+00\n",
      "    0.00000000e+00   9.99800861e-01   0.00000000e+00   0.00000000e+00\n",
      "    2.04297962e-35   0.00000000e+00   0.00000000e+00   0.00000000e+00\n",
      "    0.00000000e+00   9.58080814e-28   0.00000000e+00   0.00000000e+00\n",
      "    0.00000000e+00   0.00000000e+00   0.00000000e+00   0.00000000e+00\n",
      "    0.00000000e+00   2.40532664e-13   0.00000000e+00   0.00000000e+00\n",
      "    0.00000000e+00   0.00000000e+00   2.55034171e-33   0.00000000e+00\n",
      "    7.40970454e-32   0.00000000e+00   3.63590837e-29]\n",
      " [  0.00000000e+00   0.00000000e+00   0.00000000e+00   0.00000000e+00\n",
      "    0.00000000e+00   0.00000000e+00   0.00000000e+00   0.00000000e+00\n",
      "    0.00000000e+00   0.00000000e+00   0.00000000e+00   0.00000000e+00\n",
      "    0.00000000e+00   0.00000000e+00   0.00000000e+00   0.00000000e+00\n",
      "    0.00000000e+00   0.00000000e+00   0.00000000e+00   0.00000000e+00\n",
      "    1.00000000e+00   0.00000000e+00   0.00000000e+00   0.00000000e+00\n",
      "    0.00000000e+00   0.00000000e+00   0.00000000e+00   0.00000000e+00\n",
      "    0.00000000e+00   0.00000000e+00   0.00000000e+00   0.00000000e+00\n",
      "    0.00000000e+00   0.00000000e+00   0.00000000e+00   0.00000000e+00\n",
      "    0.00000000e+00   0.00000000e+00   0.00000000e+00   0.00000000e+00\n",
      "    0.00000000e+00   0.00000000e+00   0.00000000e+00]]\n",
      "TopKV2(values=array([[  1.00000000e+00,   0.00000000e+00,   0.00000000e+00,\n",
      "          0.00000000e+00,   0.00000000e+00],\n",
      "       [  1.00000000e+00,   4.64666989e-17,   4.78745927e-19,\n",
      "          1.27966466e-21,   5.10629588e-22],\n",
      "       [  9.85545993e-01,   1.44539364e-02,   1.30191085e-08,\n",
      "          3.13194465e-19,   4.19215723e-26],\n",
      "       [  9.99800861e-01,   1.99125192e-04,   5.37530109e-09,\n",
      "          8.94114435e-11,   2.40532664e-13],\n",
      "       [  1.00000000e+00,   0.00000000e+00,   0.00000000e+00,\n",
      "          0.00000000e+00,   0.00000000e+00]], dtype=float32), indices=array([[20,  0,  1,  2,  3],\n",
      "       [39, 25, 33,  4, 14],\n",
      "       [11, 12, 40, 42, 41],\n",
      "       [17, 12, 13, 10, 33],\n",
      "       [20,  0,  1,  2,  3]]))\n"
     ]
    }
   ],
   "source": [
    "### Print out the top five softmax probabilities for the predictions on the German traffic sign images found on the web. \n",
    "### Feel free to use as many code cells as needed.\n",
    "print(softmaxProb)\n",
    "with tf.Session() as sess3:\n",
    "    print(sess3.run(tf.nn.top_k(softmaxProb,k=5)))"
   ]
  },
  {
   "cell_type": "markdown",
   "metadata": {},
   "source": [
    "### Project Writeup\n",
    "\n",
    "Once you have completed the code implementation, document your results in a project writeup using this [template](https://github.com/udacity/CarND-Traffic-Sign-Classifier-Project/blob/master/writeup_template.md) as a guide. The writeup can be in a markdown or pdf file. "
   ]
  },
  {
   "cell_type": "markdown",
   "metadata": {},
   "source": [
    "> **Note**: Once you have completed all of the code implementations and successfully answered each question above, you may finalize your work by exporting the iPython Notebook as an HTML document. You can do this by using the menu above and navigating to  \\n\",\n",
    "    \"**File -> Download as -> HTML (.html)**. Include the finished document along with this notebook as your submission."
   ]
  },
  {
   "cell_type": "markdown",
   "metadata": {},
   "source": [
    "---\n",
    "\n",
    "## Step 4 (Optional): Visualize the Neural Network's State with Test Images\n",
    "\n",
    " This Section is not required to complete but acts as an additional excersise for understaning the output of a neural network's weights. While neural networks can be a great learning device they are often referred to as a black box. We can understand what the weights of a neural network look like better by plotting their feature maps. After successfully training your neural network you can see what it's feature maps look like by plotting the output of the network's weight layers in response to a test stimuli image. From these plotted feature maps, it's possible to see what characteristics of an image the network finds interesting. For a sign, maybe the inner network feature maps react with high activation to the sign's boundary outline or to the contrast in the sign's painted symbol.\n",
    "\n",
    " Provided for you below is the function code that allows you to get the visualization output of any tensorflow weight layer you want. The inputs to the function should be a stimuli image, one used during training or a new one you provided, and then the tensorflow variable name that represents the layer's state during the training process, for instance if you wanted to see what the [LeNet lab's](https://classroom.udacity.com/nanodegrees/nd013/parts/fbf77062-5703-404e-b60c-95b78b2f3f9e/modules/6df7ae49-c61c-4bb2-a23e-6527e69209ec/lessons/601ae704-1035-4287-8b11-e2c2716217ad/concepts/d4aca031-508f-4e0b-b493-e7b706120f81) feature maps looked like for it's second convolutional layer you could enter conv2 as the tf_activation variable.\n",
    "\n",
    "For an example of what feature map outputs look like, check out NVIDIA's results in their paper [End-to-End Deep Learning for Self-Driving Cars](https://devblogs.nvidia.com/parallelforall/deep-learning-self-driving-cars/) in the section Visualization of internal CNN State. NVIDIA was able to show that their network's inner weights had high activations to road boundary lines by comparing feature maps from an image with a clear path to one without. Try experimenting with a similar test to show that your trained network's weights are looking for interesting features, whether it's looking at differences in feature maps from images with or without a sign, or even what feature maps look like in a trained network vs a completely untrained one on the same sign image.\n",
    "\n",
    "<figure>\n",
    " <img src=\"visualize_cnn.png\" width=\"380\" alt=\"Combined Image\" />\n",
    " <figcaption>\n",
    " <p></p> \n",
    " <p style=\"text-align: center;\"> Your output should look something like this (above)</p> \n",
    " </figcaption>\n",
    "</figure>\n",
    " <p></p> \n"
   ]
  },
  {
   "cell_type": "code",
   "execution_count": null,
   "metadata": {},
   "outputs": [],
   "source": [
    "### Visualize your network's feature maps here.\n",
    "### Feel free to use as many code cells as needed.\n",
    "\n",
    "# image_input: the test image being fed into the network to produce the feature maps\n",
    "# tf_activation: should be a tf variable name used during your training procedure that represents the calculated state of a specific weight layer\n",
    "# activation_min/max: can be used to view the activation contrast in more detail, by default matplot sets min and max to the actual min and max values of the output\n",
    "# plt_num: used to plot out multiple different weight feature map sets on the same block, just extend the plt number for each new feature map entry\n",
    "\n",
    "def outputFeatureMap(image_input, tf_activation, activation_min=-1, activation_max=-1 ,plt_num=1):\n",
    "    # Here make sure to preprocess your image_input in a way your network expects\n",
    "    # with size, normalization, ect if needed\n",
    "    # image_input =\n",
    "    # Note: x should be the same name as your network's tensorflow data placeholder variable\n",
    "    # If you get an error tf_activation is not defined it may be having trouble accessing the variable from inside a function\n",
    "    default_session = tf.get_default_session()\n",
    "    #activation = tf_activation.eval(session=sess,feed_dict={x : image_input})\n",
    "    activation = tf_activation.eval(session=default_session,feed_dict={x:image_input})\n",
    "    featuremaps = activation.shape[3]\n",
    "    plt.figure(plt_num, figsize=(15,15))\n",
    "    for featuremap in range(featuremaps):\n",
    "        plt.subplot(6,8, featuremap+1) # sets the number of feature maps to show on each row and column\n",
    "        plt.title('FeatureMap ' + str(featuremap)) # displays the feature map number\n",
    "        if activation_min != -1 & activation_max != -1:\n",
    "            plt.imshow(activation[0,:,:, featuremap], interpolation=\"nearest\", vmin =activation_min, vmax=activation_max, cmap=\"gray\")\n",
    "        elif activation_max != -1:\n",
    "            plt.imshow(activation[0,:,:, featuremap], interpolation=\"nearest\", vmax=activation_max, cmap=\"gray\")\n",
    "        elif activation_min !=-1:\n",
    "            plt.imshow(activation[0,:,:, featuremap], interpolation=\"nearest\", vmin=activation_min, cmap=\"gray\")\n",
    "        else:\n",
    "            plt.imshow(activation[0,:,:, featuremap], interpolation=\"nearest\", cmap=\"gray\")\n",
    "\n",
    "### Random images selecting function\n",
    "def giveMeAnyImage(imageArray):\n",
    "    numImages = len(imageArray)\n",
    "    index = int(numImages * random.random())\n",
    "    return imageArray[index]\n",
    "\n",
    "### Selecting a random images from the X_test_nor_gray array\n",
    "image_input = giveMeAnyImage(test_images)\n",
    "image_input.shape\n",
    "### Reshaping the image to be compatible with the input format of (batch_size,height,width,channels)\n",
    "image_input = np.reshape(image_input,(1,)+ image_input.shape)\n",
    "image_input.shape\n",
    "### Show the selected image\n",
    "plt.figure(figsize=(3,3))\n",
    "plt.imshow(image_input.squeeze())\n",
    "with tf.Session() as sess4:\n",
    "#     saver = tf.train.import_meta_graph('./lenet.meta')\n",
    "#     saver.restore(sess4,tf.train.latest_checkpoint('.'))\n",
    "#     myconv1 = tf.get_default_graph().get_tensor_by_name(\"conv1:0\")\n",
    "#     outputFeatureMap(image_input,myconv1,plt_num=1)\n",
    "#     myconv2 = tf.get_default_graph().get_tensor_by_name(\"conv2:0\")\n",
    "#     outputFeatureMap(image_input,myconv2,plt_num=2)\n",
    "    third_saver = tf.train.import_meta_graph('./lenet.meta')\n",
    "    third_saver.restore(sess4,tf.train.latest_checkpoint('.'))\n",
    "    conv_1 = tf.get_default_graph().get_tensor_by_name(\"conv1_W:0\")\n",
    "    conv_2 = tf.get_default_graph().get_tensor_by_name(\"conv2_W:0\")\n",
    "    \n",
    "    outputFeatureMap(image_input,conv_1)\n",
    "    #outputFeatureMap(image_input,conv_2)\n"
   ]
  },
  {
   "cell_type": "code",
   "execution_count": null,
   "metadata": {
    "collapsed": true
   },
   "outputs": [],
   "source": []
  },
  {
   "cell_type": "code",
   "execution_count": null,
   "metadata": {
    "collapsed": true
   },
   "outputs": [],
   "source": []
  }
 ],
 "metadata": {
  "anaconda-cloud": {},
  "kernelspec": {
   "display_name": "Python 3",
   "language": "python",
   "name": "python3"
  },
  "language_info": {
   "codemirror_mode": {
    "name": "ipython",
    "version": 3
   },
   "file_extension": ".py",
   "mimetype": "text/x-python",
   "name": "python",
   "nbconvert_exporter": "python",
   "pygments_lexer": "ipython3",
   "version": "3.5.2"
  },
  "widgets": {
   "state": {},
   "version": "1.1.2"
  }
 },
 "nbformat": 4,
 "nbformat_minor": 1
}
